{
 "cells": [
  {
   "cell_type": "code",
   "execution_count": 59,
   "source": [
    "import time\r\n",
    "import pandas\r\n",
    "\r\n",
    "from selenium import webdriver\r\n",
    "from selenium.webdriver.firefox.options import Options\r\n",
    "from selenium.webdriver.common.by import By\r\n",
    "\r\n",
    "from bs4 import BeautifulSoup\r\n",
    "\r\n",
    "from mail_logger import mail_log\r\n",
    "\r\n",
    "#Inicio estancia de firefox con las siguientes opciones y lanzo la peticion de la web con la fecha selecionada\r\n",
    "options = Options()\r\n",
    "options.headless = True\r\n",
    "options.binary_location = r'C:\\Program Files\\Mozilla Firefox\\firefox.exe'\r\n",
    "\r\n",
    "driver = webdriver.Firefox(executable_path=r\"C:\\Users\\pablo.guijarro\\Downloads\\geckodriver-v0.32.0-win32\\geckodriver\",options=options)\r\n",
    "\r\n",
    "driver.get(\"https://www.sj.se/en/kop-resa/valj-resa/V%C3%A4xj%C3%B6%20station/Copenhagen%20Airport/2022-12-17\")\r\n",
    "\r\n",
    "# Cargamos la pagina un poco guarramente, porque no consigo la peticion exacta, bajando poco a poco\r\n",
    "\r\n",
    "time.sleep(4)\r\n",
    "driver.execute_script(\"window.scrollBy(0,document.body.scrollHeight/6)\")\r\n",
    "time.sleep(2)\r\n",
    "driver.execute_script(\"window.scrollBy(0,document.body.scrollHeight/6)\")\r\n",
    "time.sleep(2)\r\n",
    "driver.execute_script(\"window.scrollBy(0,document.body.scrollHeight/6)\")\r\n",
    "time.sleep(2)\r\n",
    "driver.execute_script(\"window.scrollBy(0,document.body.scrollHeight/6)\")\r\n",
    "time.sleep(2)\r\n",
    "driver.execute_script(\"window.scrollBy(0,document.body.scrollHeight/6)\")\r\n",
    "time.sleep(2)\r\n",
    "driver.execute_script(\"window.scrollBy(0,document.body.scrollHeight/6)\")\r\n",
    "time.sleep(2)\r\n",
    "driver.execute_script(\"window.scrollBy(0,document.body.scrollHeight/6)\")\r\n",
    "time.sleep(2)\r\n",
    "\r\n",
    "#formateamos el Html de la pagina\r\n",
    "soup = BeautifulSoup(driver.page_source, 'html.parser')\r\n",
    "\r\n",
    "\r\n",
    "# Encontramos los elementos \"not_availabe\", \"work_planned\" & \"priced\"\r\n",
    "data_sj_new = pandas.DataFrame()\r\n",
    "data_sj_new['not_available']= [len(soup.findAll(class_=\"MuiTypography-root MuiTypography-h3 MuiTypography-alignRight css-9yyfpl\"))]\r\n",
    "data_sj_new['work_planned'] = [len(soup.findAll(class_=\"MuiTypography-root MuiTypography-body1 MuiTypography-alignRight css-esvwf1\"))]\r\n",
    "data_sj_new['priced'] = [len(soup.findAll(class_=\"MuiTypography-root MuiTypography-h1static css-75sez1\"))]\r\n",
    "\r\n",
    "#toma el historico\r\n",
    "data_sj_old = pandas.read_csv(\"data_sj_old.csv\")\r\n",
    "\r\n",
    "dicc_tipo_viajes = {\r\n",
    "    'not_available':'no disponibles',\r\n",
    "    'work_planned':'con obras',\r\n",
    "    'priced':'con precio',\r\n",
    "}\r\n",
    "\r\n",
    "# Chequea la historia  y manda el mail si cambios\r\n",
    "if ~data_sj_old.equals(data_sj_new):\r\n",
    "    mail=''\r\n",
    "    for i in data_sj_new.columns:\r\n",
    "        if (data_sj_new[i] != data_sj_old[i])[0]:\r\n",
    "            mail = mail + f\"Cambios en  viajes {dicc_tipo_viajes[i]} antes había {data_sj_old[i][0]} y ahora {data_sj_new[i][0]} \\n\" \r\n",
    "    a=mail_log(mail)\r\n",
    "\r\n",
    "data_sj_new.to_csv('data_sj_old.csv', index=False)\r\n",
    "driver.close()\r\n"
   ],
   "outputs": [],
   "metadata": {}
  },
  {
   "cell_type": "code",
   "execution_count": 5,
   "source": [
    "from mail_logger import mail_log\r\n",
    "mail_log('4',mail_rec=\"hallsteperez@gmail.com \")\r\n"
   ],
   "outputs": [
    {
     "output_type": "execute_result",
     "data": {
      "text/plain": [
       "True"
      ]
     },
     "metadata": {},
     "execution_count": 5
    }
   ],
   "metadata": {}
  },
  {
   "cell_type": "code",
   "execution_count": 56,
   "source": [
    "\r\n",
    "\r\n",
    "\r\n"
   ],
   "outputs": [
    {
     "output_type": "execute_result",
     "data": {
      "text/plain": [
       "3"
      ]
     },
     "metadata": {},
     "execution_count": 56
    }
   ],
   "metadata": {}
  },
  {
   "cell_type": "code",
   "execution_count": 22,
   "source": [],
   "outputs": [],
   "metadata": {}
  }
 ],
 "metadata": {
  "orig_nbformat": 4,
  "language_info": {
   "name": "python",
   "version": "3.9.0",
   "mimetype": "text/x-python",
   "codemirror_mode": {
    "name": "ipython",
    "version": 3
   },
   "pygments_lexer": "ipython3",
   "nbconvert_exporter": "python",
   "file_extension": ".py"
  },
  "kernelspec": {
   "name": "python3",
   "display_name": "Python 3.9.0 64-bit"
  },
  "interpreter": {
   "hash": "ac59ebe37160ed0dfa835113d9b8498d9f09ceb179beaac4002f036b9467c963"
  }
 },
 "nbformat": 4,
 "nbformat_minor": 2
}